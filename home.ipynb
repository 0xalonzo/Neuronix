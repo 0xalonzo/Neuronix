{
 "cells": [
  {
   "cell_type": "code",
   "execution_count": 19,
   "id": "ba4f211b-a9b3-4b22-85ee-871199dd2dd8",
   "metadata": {},
   "outputs": [
    {
     "name": "stdout",
     "output_type": "stream",
     "text": [
      "Dataset already exists at the specified path.\n"
     ]
    }
   ],
   "source": [
    "import os\n",
    "from kaggle.api.kaggle_api_extended import KaggleApi\n",
    "\n",
    "os.environ['KAGGLE_USERNAME'] = 'ahga17'\n",
    "os.environ['KAGGLE_KEY'] = 'cffdda7287a803acf8cb90f4ae429761'\n",
    "\n",
    "# start API client\n",
    "api = KaggleApi()\n",
    "api.authenticate()\n",
    "\n",
    "# path for download\n",
    "download_path = 'C:/Users/Alonzo/Documents/Projects/Neuronix/archive'\n",
    "\n",
    "# check if dataset already exists\n",
    "if not os.path.exists(download_path) or not os.listdir(download_path):\n",
    "    api = KaggleApi()\n",
    "    api.authenticate()\n",
    "\n",
    "    # download dataset if not there\n",
    "    print(\"Downloading dataset...\")\n",
    "    api.dataset_download_files('kaggle/kaggle-survey-2017', path=download_path, unzip=True)\n",
    "    print(\"Download complete.\")\n",
    "else:\n",
    "    print(\"Dataset already exists at the specified path.\")"
   ]
  },
  {
   "cell_type": "code",
   "execution_count": 2,
   "id": "7bf7adb9-7924-47d4-b7bc-cb1fae8996d5",
   "metadata": {},
   "outputs": [],
   "source": [
    "# libraries\n",
    "import numpy as np\n",
    "import matplotlib.pyplot as plt\n",
    "import random\n",
    "import torch\n",
    "import torch.optim as optim\n",
    "\n",
    "matrix = np.array([[1, 2, 3], [4, 5, 6]]) #normal matrix\n",
    "zero_matrix = np.zeros((3, 3)) # all zeroes matrix\n",
    "identity_matrix = np.eye(3) # identity matrix\n",
    "random_matrix = np.random.random((3, 3)) # nxm matrix (n, m) with random values"
   ]
  },
  {
   "cell_type": "code",
   "execution_count": 3,
   "id": "c31e0b79-7efb-4801-ba53-de9df82b97cc",
   "metadata": {},
   "outputs": [],
   "source": [
    "element = matrix[0, 1] # get ther element in first row, second column\n",
    "row = matrix[1, :] # gets all second row\n",
    "column = matrix[:, 2] # gets all third column"
   ]
  },
  {
   "cell_type": "code",
   "execution_count": 4,
   "id": "aa99c6bc-9d2e-448d-9530-f5ed63756a73",
   "metadata": {},
   "outputs": [
    {
     "name": "stdout",
     "output_type": "stream",
     "text": [
      "[[1 2 3]\n",
      " [4 5 6]]\n",
      "\n",
      "[[0. 0. 0.]\n",
      " [0. 0. 0.]\n",
      " [0. 0. 0.]]\n",
      "\n",
      "[[1. 0. 0.]\n",
      " [0. 1. 0.]\n",
      " [0. 0. 1.]]\n",
      "\n",
      "[[0.81750428 0.57892763 0.92942215]\n",
      " [0.40811599 0.2272863  0.85665854]\n",
      " [0.82021235 0.49785879 0.66516968]]\n"
     ]
    }
   ],
   "source": [
    "print(matrix)\n",
    "print()\n",
    "print(zero_matrix)\n",
    "print()\n",
    "print(identity_matrix)\n",
    "print()\n",
    "print(random_matrix)"
   ]
  },
  {
   "cell_type": "code",
   "execution_count": 5,
   "id": "c31e286f-6e5f-4594-8ce3-224d8db21e7b",
   "metadata": {},
   "outputs": [
    {
     "name": "stdout",
     "output_type": "stream",
     "text": [
      "[[ 6  8]\n",
      " [10 12]]\n",
      "[[-4 -4]\n",
      " [-4 -4]]\n"
     ]
    }
   ],
   "source": [
    "matrix1 = np.array([[1, 2], [3, 4]])\n",
    "matrix2 = np.array([[5, 6], [7, 8]])\n",
    "\n",
    "# addiction\n",
    "addition = matrix1 + matrix2\n",
    "subtraction = matrix1 - matrix2\n",
    "\n",
    "print(addition)\n",
    "print(subtraction)"
   ]
  },
  {
   "cell_type": "code",
   "execution_count": 6,
   "id": "3c06afde-95da-4821-a231-7e3ea675f423",
   "metadata": {},
   "outputs": [
    {
     "name": "stdout",
     "output_type": "stream",
     "text": [
      "[[19 22]\n",
      " [43 50]]\n"
     ]
    }
   ],
   "source": [
    "multiplication = np.dot(matrix1, matrix2)\n",
    "print(multiplication)"
   ]
  },
  {
   "cell_type": "code",
   "execution_count": 7,
   "id": "8d65e20d-4cea-42fb-b815-cc11b969a9d9",
   "metadata": {},
   "outputs": [
    {
     "name": "stdout",
     "output_type": "stream",
     "text": [
      "[[ 5 12]\n",
      " [21 32]]\n"
     ]
    }
   ],
   "source": [
    "element_mult = matrix1 * matrix2\n",
    "print(element_mult)"
   ]
  },
  {
   "cell_type": "code",
   "execution_count": 8,
   "id": "65bf38dd-1adc-489c-acc4-bccb5bb20be5",
   "metadata": {},
   "outputs": [
    {
     "name": "stdout",
     "output_type": "stream",
     "text": [
      "[[1 3]\n",
      " [2 4]]\n"
     ]
    }
   ],
   "source": [
    "transpose = matrix1.T\n",
    "print(transpose)"
   ]
  },
  {
   "cell_type": "code",
   "execution_count": 9,
   "id": "27a8c7da-dc10-4020-a903-43a94cc7fce9",
   "metadata": {},
   "outputs": [
    {
     "name": "stdout",
     "output_type": "stream",
     "text": [
      "[[-2.   1. ]\n",
      " [ 1.5 -0.5]]\n"
     ]
    }
   ],
   "source": [
    "inverse = np.linalg.inv(matrix1)\n",
    "print(inverse)"
   ]
  },
  {
   "cell_type": "code",
   "execution_count": 10,
   "id": "dd64475a-4519-414b-a7ac-002710283e50",
   "metadata": {},
   "outputs": [
    {
     "name": "stdout",
     "output_type": "stream",
     "text": [
      "-2\n"
     ]
    }
   ],
   "source": [
    "determinant = np.linalg.det(matrix1)\n",
    "print(int(determinant))"
   ]
  },
  {
   "cell_type": "code",
   "execution_count": 11,
   "id": "66a08d40-8058-466f-bbdb-c8544dd7d057",
   "metadata": {},
   "outputs": [
    {
     "name": "stdout",
     "output_type": "stream",
     "text": [
      "[-0.37228132  5.37228132] [[-0.82456484 -0.41597356]\n",
      " [ 0.56576746 -0.90937671]]\n"
     ]
    }
   ],
   "source": [
    "eigenvalues, eigenvectors = np.linalg.eig(matrix1)\n",
    "print(eigenvalues, eigenvectors)"
   ]
  },
  {
   "cell_type": "code",
   "execution_count": 12,
   "id": "97a4bed0-b7e1-4875-b081-c5aeab3d222e",
   "metadata": {},
   "outputs": [
    {
     "name": "stdout",
     "output_type": "stream",
     "text": [
      "[1 2 3 4 5 6 7 8 9]\n"
     ]
    }
   ],
   "source": [
    "# reshaping a matrix \n",
    "matrix = np.array([[1, 2, 3], [4, 5, 6], [7, 8, 9]])\n",
    "\n",
    "# shift matrix\n",
    "reshape_matrix = matrix.reshape(9)\n",
    "\n",
    "# put the matrix back\n",
    "#reshape_back = reshape_matrix.reshape(3, 3)\n",
    "\n",
    "print(reshape_matrix)"
   ]
  },
  {
   "cell_type": "code",
   "execution_count": 13,
   "id": "94c77a98-0bc1-4d43-b4fb-6d91515805c7",
   "metadata": {},
   "outputs": [
    {
     "name": "stdout",
     "output_type": "stream",
     "text": [
      "[[1 2 3]\n",
      " [4 5 6]\n",
      " [7 8 9]]\n",
      "\n",
      "[[1 2]\n",
      " [4 5]]\n"
     ]
    }
   ],
   "source": [
    "print(matrix)\n",
    "submatrix = matrix[0:2, 0:2] # [first 2 spots in row, first 2 spots in column]\n",
    "print()\n",
    "print(submatrix)"
   ]
  },
  {
   "cell_type": "code",
   "execution_count": 14,
   "id": "318bf23f-0238-4b60-bbc9-5593bf0cc709",
   "metadata": {},
   "outputs": [
    {
     "name": "stdout",
     "output_type": "stream",
     "text": [
      "[[17 18 19]\n",
      " [20 21 22]\n",
      " [23 24 25]]\n"
     ]
    }
   ],
   "source": [
    "# adds random numbers to the matrix\n",
    "num = random.randint(1, 50)\n",
    "add_matrix = matrix + num\n",
    "print(add_matrix)"
   ]
  },
  {
   "cell_type": "code",
   "execution_count": 15,
   "id": "78abc41d-f75d-4ae7-8abc-4705a6d3a2b3",
   "metadata": {},
   "outputs": [
    {
     "name": "stdout",
     "output_type": "stream",
     "text": [
      "2\n"
     ]
    }
   ],
   "source": [
    "# find rank \n",
    "rank = np.linalg.matrix_rank(matrix)\n",
    "print(rank)"
   ]
  },
  {
   "cell_type": "code",
   "execution_count": 16,
   "id": "5373c9a4-e49a-4a1d-9c23-dd210cd0d095",
   "metadata": {},
   "outputs": [
    {
     "name": "stdout",
     "output_type": "stream",
     "text": [
      "[[[ 1  2  3]\n",
      "  [ 4  5  6]\n",
      "  [ 7  8  9]]\n",
      "\n",
      " [[10 11 12]\n",
      "  [13 14 15]\n",
      "  [16 17 18]]\n",
      "\n",
      " [[19 20 21]\n",
      "  [22 23 24]\n",
      "  [25 26 27]]]\n"
     ]
    }
   ],
   "source": [
    "# 3D matrix\n",
    "matrix_3d = np.array([\n",
    "    [[1, 2, 3], [4, 5, 6], [7, 8, 9]],\n",
    "    [[10, 11, 12], [13, 14, 15], [16, 17, 18]],\n",
    "    [[19, 20, 21], [22, 23, 24], [25, 26, 27]]\n",
    "                    ])\n",
    "print(matrix_3d)\n"
   ]
  },
  {
   "cell_type": "code",
   "execution_count": 17,
   "id": "3ced23e3-33a6-4b64-a14a-ad0bd9111515",
   "metadata": {},
   "outputs": [
    {
     "name": "stdout",
     "output_type": "stream",
     "text": [
      "[[[38 24 31]\n",
      "  [22 35 29]\n",
      "  [ 6 36 14]\n",
      "  [ 7 48 15]]\n",
      "\n",
      " [[ 3 21  3]\n",
      "  [24  9 26]\n",
      "  [26 30 37]\n",
      "  [44 25 19]]\n",
      "\n",
      " [[ 2 13 27]\n",
      "  [ 1 30 10]\n",
      "  [32 11 37]\n",
      "  [15 36 31]]\n",
      "\n",
      " [[31 33 13]\n",
      "  [19 39 32]\n",
      "  [14  8 39]\n",
      "  [42 29 18]]]\n"
     ]
    }
   ],
   "source": [
    "# 3d matrix with random values 1 -50\n",
    "random_3d = np.random.randint(1, 50, (4, 4, 3))\n",
    "\n",
    "print(random_3d)\n"
   ]
  },
  {
   "cell_type": "code",
   "execution_count": null,
   "id": "296df8e9-54be-47be-8ace-82167f0b09b4",
   "metadata": {},
   "outputs": [],
   "source": []
  }
 ],
 "metadata": {
  "kernelspec": {
   "display_name": "Python 3 (ipykernel)",
   "language": "python",
   "name": "python3"
  },
  "language_info": {
   "codemirror_mode": {
    "name": "ipython",
    "version": 3
   },
   "file_extension": ".py",
   "mimetype": "text/x-python",
   "name": "python",
   "nbconvert_exporter": "python",
   "pygments_lexer": "ipython3",
   "version": "3.12.2"
  }
 },
 "nbformat": 4,
 "nbformat_minor": 5
}
